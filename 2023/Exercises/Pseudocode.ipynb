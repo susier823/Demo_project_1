{
  "nbformat": 4,
  "nbformat_minor": 0,
  "metadata": {
    "colab": {
      "provenance": [],
      "include_colab_link": true
    },
    "kernelspec": {
      "name": "python3",
      "display_name": "Python 3"
    },
    "language_info": {
      "name": "python"
    }
  },
  "cells": [
    {
      "cell_type": "markdown",
      "metadata": {
        "id": "view-in-github",
        "colab_type": "text"
      },
      "source": [
        "<a href=\"https://colab.research.google.com/github/susier823/Demo_project_1/blob/main/2023/Exercises/Pseudocode.ipynb\" target=\"_parent\"><img src=\"https://colab.research.google.com/assets/colab-badge.svg\" alt=\"Open In Colab\"/></a>"
      ]
    },
    {
      "cell_type": "markdown",
      "source": [
        "## Task: Calculate and display the average of three exam scores.\n"
      ],
      "metadata": {
        "id": "3da3VcXqp6wF"
      }
    },
    {
      "cell_type": "markdown",
      "source": [
        "#### Pseudo code:\n",
        "\n",
        "1. Read the first exam score from the user and store it in memory by name \"score1\"\n",
        "2. Read the second exam score from the user and store it in memory by name \"score2\"\n",
        "3. Read the third exam score from the user and store it in memory by name \"score3\"\n",
        "4. Set a memory called \"total\" to the sum of \"score1\", \"score2\", and \"score3\"\n",
        "5. Set a memory called \"average\" to the result of dividing \"total\" by 3\n",
        "6. Display the value of memory named *average*"
      ],
      "metadata": {
        "id": "MI-RMrGEiDE9"
      }
    },
    {
      "cell_type": "markdown",
      "source": [
        "## Task: Find and display the maximum of three exam scores"
      ],
      "metadata": {
        "id": "EDScgdWTi6zk"
      }
    },
    {
      "cell_type": "markdown",
      "source": [
        "1. Read the first exam score from the user and store it in memory by name \"score1\"\n",
        "2. Read the second exam score from the user and store it in memory by name \"score2\"\n",
        "3. Read the third exam score from the user and store it in memory by name \"score3\"\n",
        "4. Set a memory called \"maximum\" to \"score1\"\n",
        "5. If value of \"score2\" is greater than value of \"maximum\", set \"maximum\" to \"score2\"\n",
        "5. If value of \"score3\" is greater than value of \"maximum\", set \"maximum\" to \"score3\"\n",
        "6. Display the value of *maximum*"
      ],
      "metadata": {
        "id": "XfUe5Od4j-dO"
      }
    },
    {
      "cell_type": "markdown",
      "source": [
        "## Task: Count and display the total number of vowels (a,e,i,o,u) in user's name."
      ],
      "metadata": {
        "id": "v6p6GEkGkdLD"
      }
    },
    {
      "cell_type": "markdown",
      "source": [
        "1. Read the user name and store it in memory by name \"name\"\n",
        "2. Set a memory called \"total vowels\" to 0\n",
        "3. Iterate thorugh each character in the value of \"name\"\n",
        "  1. If the character is **a**, increment the value of \"total vowels\" by 1\n",
        "  2. If the character is **e**, increment the value of \"total vowels\" by 1\n",
        "  3. If the character is **i**, increment the value of \"total vowels\" by 1\n",
        "  4. If the character is **o**, increment the value of \"total vowels\" by 1\n",
        "  5. If the character is **u**, increment the value of \"total vowels\" by 1\n",
        "\n",
        "4. Display the value of \"total vowels\"\n"
      ],
      "metadata": {
        "id": "a3G2NzqglN8c"
      }
    },
    {
      "cell_type": "markdown",
      "source": [
        "## Task: Count and display the occurrence of each vowel in user's name.\n"
      ],
      "metadata": {
        "id": "LFoFUy9Pl2uD"
      }
    },
    {
      "cell_type": "markdown",
      "source": [
        "1. Read the user name and store it in memory by name \"name\"\n",
        "2. Set a memory called \"a\" to 0\n",
        "3. Set a memory called \"e\" to 0\n",
        "4. Set a memory called \"i\" to 0\n",
        "5. Set a memory called \"o\" to 0\n",
        "6. Set a memory called \"u\" to 0\n",
        "7. Iterate thorugh each character in the value of \"name\"\n",
        "  1. If the character is **a**, increment the value of \"a\" by 1\n",
        "  2. If the character is **e**, increment the value of \"e\" by 1\n",
        "  3. If the character is **i**, increment the value of \"i\" by 1\n",
        "  4. If the character is **o**, increment the value of \"o\" by 1\n",
        "  5. If the character is **u**, increment the value of \"u\" by 1\n",
        "\n",
        "8. Display the values of \"a\", \"e\", \"i\", \"o\", \"u\""
      ],
      "metadata": {
        "id": "LZMacIwul0ol"
      }
    },
    {
      "cell_type": "markdown",
      "source": [
        "# **Practice**"
      ],
      "metadata": {
        "id": "GuY04-inozEZ"
      }
    },
    {
      "cell_type": "markdown",
      "source": [
        "## 1. Check if a number is even or odd"
      ],
      "metadata": {
        "id": "inrfXU1GsiY4"
      }
    },
    {
      "cell_type": "markdown",
      "source": [
        "1. read a number, and store it in member by name \"number\"\n",
        "2. If a number ends in 2, assign it as an \"even number\"\n",
        "3. If a number ends in 4, assign it as an \"even number\"\n",
        "4. If a number ends in 6, assign it as an \"even number\"\n",
        "5. If a number ends in 8, assign it as an \"even number\"\n",
        "6. If a number ends in 0, assign it as an \"even number\" when it is greater than or equal to 10\n",
        "7. If a number ends in 1, assign it as an \"Odd number\"\n",
        "8. If a number ends in 3, assign it as an \"Odd number\"\n",
        "9. If a number ends in 5, assign it as an \"Odd number\"\n",
        "10. If a number ends in 7, assign it as an \"Odd number\"\n",
        "11. If a number ends in 9, assign it as an \"Odd number\"\n",
        "Display if number is an \"even number\" or \"odd number\"\n"
      ],
      "metadata": {
        "id": "ARDDNv8DMngu"
      }
    },
    {
      "cell_type": "markdown",
      "source": [
        "## 2. Calculate tip and display total amount. User provides the bill amount and tip percentage"
      ],
      "metadata": {
        "id": "d8Xe1d_atq9E"
      }
    },
    {
      "cell_type": "markdown",
      "source": [
        "1. Read the bill amount and store it in memory by name \"bill\"\n",
        "2. Read the tip percentage and store it in memory by \"tip percentage\"\n",
        "3. Set a memory called \"tip\" and multiply \"bill\" by \"tip percentage\"\n",
        "4. Set a memory called \"total bill\" to the sum \"bill\" and \"tip\"\n",
        "5. Display the value of \"total bill\""
      ],
      "metadata": {
        "id": "lV9POJDbNv2o"
      }
    },
    {
      "cell_type": "markdown",
      "source": [
        "## 3. Create a phonebook with names and phone numbers provided by the user. Once the phonebook is created, display all entries."
      ],
      "metadata": {
        "id": "6sRGEDZ1u8N7"
      }
    },
    {
      "cell_type": "markdown",
      "source": [
        "1. Set an empty dictionary memory \"phonebook\"\n",
        "2. Start a loop to add contacts to the phonebook\n",
        "  1. read a name from the user and store it in memory called \"name\"\n",
        "  2. Read a phone number from the user and store it in a memory called \"phone\"\n",
        "  3. Add the \"name\" as a key and the \"phone\" as the corresponding value in the \"phonebook\" dictionary\n",
        "  4. Ask the user if they want to add another contact, if not, exit the loop\n",
        "3. Display the \"phonebook\" dictionary"
      ],
      "metadata": {
        "id": "iVt5gCkFPi88"
      }
    }
  ]
}